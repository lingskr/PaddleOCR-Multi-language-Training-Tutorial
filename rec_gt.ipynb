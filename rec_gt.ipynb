{
 "cells": [
  {
   "cell_type": "code",
   "execution_count": 17,
   "id": "b6a515e5-b515-4c59-8140-576d746cfac6",
   "metadata": {},
   "outputs": [],
   "source": [
    "import json\n",
    "import random\n",
    "import shutil\n",
    "import os\n",
    "\n",
    "# 读取 labels.json 文件\n",
    "with open('./labels.json', 'r', encoding='utf-8') as f:\n",
    "    data = json.load(f)\n",
    "\n",
    "# 获取标签数据\n",
    "labels = data['labels']\n",
    "\n",
    "# 创建分割后的图像目录\n",
    "os.makedirs('./train_data/rec/train', exist_ok=True)\n",
    "os.makedirs('./train_data/rec/val', exist_ok=True)\n",
    "\n",
    "# 分割数据为训练集和验证集\n",
    "keys = list(labels.keys())\n",
    "\n",
    "split_point = int(0.8 * len(keys))  # 计算分割点\n",
    "train_keys = keys[:split_point]\n",
    "val_keys = keys[split_point:]\n",
    "\n",
    "# 写入训练集和验证集标签文件，同时复制图像到新目录\n",
    "with open('./train_gt.txt', 'w', encoding='utf-8') as f_train, \\\n",
    "     open('./val_gt.txt', 'w', encoding='utf-8') as f_val:\n",
    "    for key in train_keys:\n",
    "        filename_train = f\"train_data/rec/train/{int(key):09d}.jpg\"\n",
    "        original_filename = f\"./img/{int(key):09d}.jpg\"\n",
    "        label = labels[key]\n",
    "        # 复制图像文件到训练目录\n",
    "        shutil.copy(original_filename, filename_train)\n",
    "        f_train.write(f\"{filename_train}\\t{label}\\n\")\n",
    "    for key in val_keys:\n",
    "        filename_val = f\"train_data/rec/val/{int(key):09d}.jpg\"\n",
    "        original_filename = f\"./img/{int(key):09d}.jpg\"\n",
    "        label = labels[key]\n",
    "        # 复制图像文件到验证目录\n",
    "        shutil.copy(original_filename, filename_val)\n",
    "        f_val.write(f\"{filename_val}\\t{label}\\n\")\n"
   ]
  },
  {
   "cell_type": "code",
   "execution_count": 16,
   "id": "e1da8b7c-8f18-443f-856c-f8546aa879db",
   "metadata": {},
   "outputs": [
    {
     "name": "stdout",
     "output_type": "stream",
     "text": [
      "文件夹已压缩为 ./split_img.zip\n"
     ]
    }
   ],
   "source": [
    "import zipfile\n",
    "import os\n",
    "\n",
    "# 定义文件夹路径\n",
    "folder_path = './train_data'  # 将其替换为你的split_img文件夹的实际路径\n",
    "zip_filename = './split_img.zip'  # 压缩后的ZIP文件路径\n",
    "\n",
    "# 压缩文件夹\n",
    "with zipfile.ZipFile(zip_filename, 'w', zipfile.ZIP_DEFLATED) as zipf:\n",
    "    for root, dirs, files in os.walk(folder_path):\n",
    "        for file in files:\n",
    "            zipf.write(os.path.join(root, file),\n",
    "                       os.path.relpath(os.path.join(root, file),\n",
    "                                       os.path.join(folder_path, '..')))\n",
    "\n",
    "print(f\"文件夹已压缩为 {zip_filename}\")\n"
   ]
  },
  {
   "cell_type": "code",
   "execution_count": null,
   "id": "3dab7af0-d45d-4e8a-88a1-749951b09a7c",
   "metadata": {},
   "outputs": [],
   "source": []
  }
 ],
 "metadata": {
  "kernelspec": {
   "display_name": "Python 3 (ipykernel)",
   "language": "python",
   "name": "python3"
  },
  "language_info": {
   "codemirror_mode": {
    "name": "ipython",
    "version": 3
   },
   "file_extension": ".py",
   "mimetype": "text/x-python",
   "name": "python",
   "nbconvert_exporter": "python",
   "pygments_lexer": "ipython3",
   "version": "3.8.10"
  }
 },
 "nbformat": 4,
 "nbformat_minor": 5
}
