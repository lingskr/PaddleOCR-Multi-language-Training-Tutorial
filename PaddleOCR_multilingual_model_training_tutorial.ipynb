{
  "cells": [
    {
      "cell_type": "markdown",
      "metadata": {
        "collapsed": false,
        "id": "Gq7S56hBe-aG"
      },
      "source": [
        "# PaddleOCR Multilingual Model Training Tutorial\n",
        "\n",
        "PaddleOCR provides 80 language models, but still can not cover all. the released model can achieve a better result when you fine-tune with your own recognition data. If you have the following questions:\n",
        "\n",
        "- Bad efforts when testing the original recognition model\n",
        "- Lack of data and confusion about the training process\n",
        "- Don't know how to replace or modify the dictionary\n",
        "\n",
        "this tutorial will help you learn how to synthesize recognition images to train a custom recognition model, specifically, including:\n",
        "- Corpus synthesis improves a certain category of recognition results, take Thai for example\n",
        "- Use your own dictionary and corpus to train a model like the digital-only model, multilingual model, etc.\n",
        "- A step-by-step training guide including how to configure training parameters via `.yml` configuration file\n",
        "- Export the trained model to the inference model\n",
        "\n",
        "\n",
        "<img src='https://user-images.githubusercontent.com/50011306/184822349-c214e8b7-90f5-4bab-9833-978b5055af04.png' width=\"600\" heith=\"600\">\n",
        "\n",
        "Any question about the tutorial can be discussed in the [PaddleOCR's GitHub Discussion](https://github.com/PaddlePaddle/PaddleOCR/discussions)"
      ]
    },
    {
      "cell_type": "markdown",
      "metadata": {
        "collapsed": false,
        "id": "aTfNv2Gwe-aL"
      },
      "source": [
        "## Environment preparation"
      ]
    },
    {
      "cell_type": "code",
      "execution_count": null,
      "metadata": {
        "id": "q-VTsLz2e-aN",
        "outputId": "4110a4f8-c45e-41af-f638-abeff2d5a9c4",
        "colab": {
          "base_uri": "https://localhost:8080/"
        }
      },
      "outputs": [
        {
          "output_type": "stream",
          "name": "stdout",
          "text": [
            "Looking in indexes: https://pypi.org/simple, https://us-python.pkg.dev/colab-wheels/public/simple/\n",
            "Collecting paddlepaddle\n",
            "  Downloading paddlepaddle-2.3.2-cp37-cp37m-manylinux1_x86_64.whl (112.5 MB)\n",
            "\u001b[K     |████████████████████████████████| 112.5 MB 50 kB/s \n",
            "\u001b[?25hCollecting paddleocr\n",
            "  Downloading paddleocr-2.5.0.3-py3-none-any.whl (334 kB)\n",
            "\u001b[K     |████████████████████████████████| 334 kB 56.5 MB/s \n",
            "\u001b[?25hRequirement already satisfied: numpy>=1.13 in /usr/local/lib/python3.7/dist-packages (from paddlepaddle) (1.21.6)\n",
            "Requirement already satisfied: Pillow in /usr/local/lib/python3.7/dist-packages (from paddlepaddle) (7.1.2)\n",
            "Requirement already satisfied: astor in /usr/local/lib/python3.7/dist-packages (from paddlepaddle) (0.8.1)\n",
            "Requirement already satisfied: requests>=2.20.0 in /usr/local/lib/python3.7/dist-packages (from paddlepaddle) (2.23.0)\n",
            "Requirement already satisfied: decorator in /usr/local/lib/python3.7/dist-packages (from paddlepaddle) (4.4.2)\n",
            "Requirement already satisfied: protobuf<=3.20.0,>=3.1.0 in /usr/local/lib/python3.7/dist-packages (from paddlepaddle) (3.17.3)\n",
            "Requirement already satisfied: opt-einsum==3.3.0 in /usr/local/lib/python3.7/dist-packages (from paddlepaddle) (3.3.0)\n",
            "Requirement already satisfied: six in /usr/local/lib/python3.7/dist-packages (from paddlepaddle) (1.15.0)\n",
            "Collecting paddle-bfloat==0.1.7\n",
            "  Downloading paddle_bfloat-0.1.7-cp37-cp37m-manylinux_2_17_x86_64.manylinux2014_x86_64.whl (394 kB)\n",
            "\u001b[K     |████████████████████████████████| 394 kB 58.5 MB/s \n",
            "\u001b[?25hRequirement already satisfied: urllib3!=1.25.0,!=1.25.1,<1.26,>=1.21.1 in /usr/local/lib/python3.7/dist-packages (from requests>=2.20.0->paddlepaddle) (1.24.3)\n",
            "Requirement already satisfied: certifi>=2017.4.17 in /usr/local/lib/python3.7/dist-packages (from requests>=2.20.0->paddlepaddle) (2022.6.15)\n",
            "Requirement already satisfied: idna<3,>=2.5 in /usr/local/lib/python3.7/dist-packages (from requests>=2.20.0->paddlepaddle) (2.10)\n",
            "Requirement already satisfied: chardet<4,>=3.0.2 in /usr/local/lib/python3.7/dist-packages (from requests>=2.20.0->paddlepaddle) (3.0.4)\n",
            "Collecting pyclipper\n",
            "  Downloading pyclipper-1.3.0.post3-cp37-cp37m-manylinux_2_5_x86_64.manylinux1_x86_64.whl (604 kB)\n",
            "\u001b[K     |████████████████████████████████| 604 kB 55.3 MB/s \n",
            "\u001b[?25hRequirement already satisfied: tqdm in /usr/local/lib/python3.7/dist-packages (from paddleocr) (4.64.0)\n",
            "Collecting visualdl\n",
            "  Downloading visualdl-2.3.0-py3-none-any.whl (2.8 MB)\n",
            "\u001b[K     |████████████████████████████████| 2.8 MB 41.8 MB/s \n",
            "\u001b[?25hCollecting premailer\n",
            "  Downloading premailer-3.10.0-py2.py3-none-any.whl (19 kB)\n",
            "Requirement already satisfied: lxml in /usr/local/lib/python3.7/dist-packages (from paddleocr) (4.9.1)\n",
            "Requirement already satisfied: lmdb in /usr/local/lib/python3.7/dist-packages (from paddleocr) (0.99)\n",
            "Collecting opencv-contrib-python==4.4.0.46\n",
            "  Downloading opencv_contrib_python-4.4.0.46-cp37-cp37m-manylinux2014_x86_64.whl (55.7 MB)\n",
            "\u001b[K     |████████████████████████████████| 55.7 MB 1.1 MB/s \n",
            "\u001b[?25hRequirement already satisfied: cython in /usr/local/lib/python3.7/dist-packages (from paddleocr) (0.29.32)\n",
            "Requirement already satisfied: openpyxl in /usr/local/lib/python3.7/dist-packages (from paddleocr) (3.0.10)\n",
            "Collecting attrdict\n",
            "  Downloading attrdict-2.0.1-py2.py3-none-any.whl (9.9 kB)\n",
            "Requirement already satisfied: shapely in /usr/local/lib/python3.7/dist-packages (from paddleocr) (1.8.2)\n",
            "Collecting python-Levenshtein\n",
            "  Downloading python-Levenshtein-0.12.2.tar.gz (50 kB)\n",
            "\u001b[K     |████████████████████████████████| 50 kB 7.8 MB/s \n",
            "\u001b[?25hRequirement already satisfied: scikit-image in /usr/local/lib/python3.7/dist-packages (from paddleocr) (0.18.3)\n",
            "Requirement already satisfied: imgaug==0.4.0 in /usr/local/lib/python3.7/dist-packages (from paddleocr) (0.4.0)\n",
            "Requirement already satisfied: matplotlib in /usr/local/lib/python3.7/dist-packages (from imgaug==0.4.0->paddleocr) (3.2.2)\n",
            "Requirement already satisfied: scipy in /usr/local/lib/python3.7/dist-packages (from imgaug==0.4.0->paddleocr) (1.7.3)\n",
            "Requirement already satisfied: imageio in /usr/local/lib/python3.7/dist-packages (from imgaug==0.4.0->paddleocr) (2.9.0)\n",
            "Requirement already satisfied: opencv-python in /usr/local/lib/python3.7/dist-packages (from imgaug==0.4.0->paddleocr) (4.6.0.66)\n",
            "Requirement already satisfied: networkx>=2.0 in /usr/local/lib/python3.7/dist-packages (from scikit-image->paddleocr) (2.6.3)\n",
            "Requirement already satisfied: tifffile>=2019.7.26 in /usr/local/lib/python3.7/dist-packages (from scikit-image->paddleocr) (2021.11.2)\n",
            "Requirement already satisfied: PyWavelets>=1.1.1 in /usr/local/lib/python3.7/dist-packages (from scikit-image->paddleocr) (1.3.0)\n",
            "Requirement already satisfied: cycler>=0.10 in /usr/local/lib/python3.7/dist-packages (from matplotlib->imgaug==0.4.0->paddleocr) (0.11.0)\n",
            "Requirement already satisfied: kiwisolver>=1.0.1 in /usr/local/lib/python3.7/dist-packages (from matplotlib->imgaug==0.4.0->paddleocr) (1.4.4)\n",
            "Requirement already satisfied: python-dateutil>=2.1 in /usr/local/lib/python3.7/dist-packages (from matplotlib->imgaug==0.4.0->paddleocr) (2.8.2)\n",
            "Requirement already satisfied: pyparsing!=2.0.4,!=2.1.2,!=2.1.6,>=2.0.1 in /usr/local/lib/python3.7/dist-packages (from matplotlib->imgaug==0.4.0->paddleocr) (3.0.9)\n",
            "Requirement already satisfied: typing-extensions in /usr/local/lib/python3.7/dist-packages (from kiwisolver>=1.0.1->matplotlib->imgaug==0.4.0->paddleocr) (4.1.1)\n",
            "Requirement already satisfied: et-xmlfile in /usr/local/lib/python3.7/dist-packages (from openpyxl->paddleocr) (1.1.0)\n",
            "Collecting cssselect\n",
            "  Downloading cssselect-1.1.0-py2.py3-none-any.whl (16 kB)\n",
            "Collecting cssutils\n",
            "  Downloading cssutils-2.5.1-py3-none-any.whl (399 kB)\n",
            "\u001b[K     |████████████████████████████████| 399 kB 65.0 MB/s \n",
            "\u001b[?25hRequirement already satisfied: cachetools in /usr/local/lib/python3.7/dist-packages (from premailer->paddleocr) (4.2.4)\n",
            "Requirement already satisfied: importlib-metadata in /usr/local/lib/python3.7/dist-packages (from cssutils->premailer->paddleocr) (4.12.0)\n",
            "Requirement already satisfied: zipp>=0.5 in /usr/local/lib/python3.7/dist-packages (from importlib-metadata->cssutils->premailer->paddleocr) (3.8.1)\n",
            "Requirement already satisfied: setuptools in /usr/local/lib/python3.7/dist-packages (from python-Levenshtein->paddleocr) (57.4.0)\n",
            "Requirement already satisfied: flask>=1.1.1 in /usr/local/lib/python3.7/dist-packages (from visualdl->paddleocr) (1.1.4)\n",
            "Collecting bce-python-sdk\n",
            "  Downloading bce_python_sdk-0.8.74-py3-none-any.whl (204 kB)\n",
            "\u001b[K     |████████████████████████████████| 204 kB 74.9 MB/s \n",
            "\u001b[?25hCollecting Flask-Babel>=1.0.0\n",
            "  Downloading Flask_Babel-2.0.0-py3-none-any.whl (9.3 kB)\n",
            "Requirement already satisfied: pandas in /usr/local/lib/python3.7/dist-packages (from visualdl->paddleocr) (1.3.5)\n",
            "Requirement already satisfied: Werkzeug<2.0,>=0.15 in /usr/local/lib/python3.7/dist-packages (from flask>=1.1.1->visualdl->paddleocr) (1.0.1)\n",
            "Requirement already satisfied: click<8.0,>=5.1 in /usr/local/lib/python3.7/dist-packages (from flask>=1.1.1->visualdl->paddleocr) (7.1.2)\n",
            "Requirement already satisfied: itsdangerous<2.0,>=0.24 in /usr/local/lib/python3.7/dist-packages (from flask>=1.1.1->visualdl->paddleocr) (1.1.0)\n",
            "Requirement already satisfied: Jinja2<3.0,>=2.10.1 in /usr/local/lib/python3.7/dist-packages (from flask>=1.1.1->visualdl->paddleocr) (2.11.3)\n",
            "Requirement already satisfied: Babel>=2.3 in /usr/local/lib/python3.7/dist-packages (from Flask-Babel>=1.0.0->visualdl->paddleocr) (2.10.3)\n",
            "Requirement already satisfied: pytz in /usr/local/lib/python3.7/dist-packages (from Flask-Babel>=1.0.0->visualdl->paddleocr) (2022.2)\n",
            "Requirement already satisfied: MarkupSafe>=0.23 in /usr/local/lib/python3.7/dist-packages (from Jinja2<3.0,>=2.10.1->flask>=1.1.1->visualdl->paddleocr) (2.0.1)\n",
            "Requirement already satisfied: future>=0.6.0 in /usr/local/lib/python3.7/dist-packages (from bce-python-sdk->visualdl->paddleocr) (0.16.0)\n",
            "Collecting pycryptodome>=3.8.0\n",
            "  Downloading pycryptodome-3.15.0-cp35-abi3-manylinux2010_x86_64.whl (2.3 MB)\n",
            "\u001b[K     |████████████████████████████████| 2.3 MB 46.3 MB/s \n",
            "\u001b[?25hBuilding wheels for collected packages: python-Levenshtein\n",
            "  Building wheel for python-Levenshtein (setup.py) ... \u001b[?25l\u001b[?25hdone\n",
            "  Created wheel for python-Levenshtein: filename=python_Levenshtein-0.12.2-cp37-cp37m-linux_x86_64.whl size=149870 sha256=13e0c0f3322ef2cbbe613bb8949dcf246b2ddfecfc4c8eb008a2d8c68903b3c9\n",
            "  Stored in directory: /root/.cache/pip/wheels/05/5f/ca/7c4367734892581bb5ff896f15027a932c551080b2abd3e00d\n",
            "Successfully built python-Levenshtein\n",
            "Installing collected packages: pycryptodome, Flask-Babel, cssutils, cssselect, bce-python-sdk, visualdl, python-Levenshtein, pyclipper, premailer, paddle-bfloat, opencv-contrib-python, attrdict, paddlepaddle, paddleocr\n",
            "  Attempting uninstall: opencv-contrib-python\n",
            "    Found existing installation: opencv-contrib-python 4.6.0.66\n",
            "    Uninstalling opencv-contrib-python-4.6.0.66:\n",
            "      Successfully uninstalled opencv-contrib-python-4.6.0.66\n",
            "Successfully installed Flask-Babel-2.0.0 attrdict-2.0.1 bce-python-sdk-0.8.74 cssselect-1.1.0 cssutils-2.5.1 opencv-contrib-python-4.4.0.46 paddle-bfloat-0.1.7 paddleocr-2.5.0.3 paddlepaddle-2.3.2 premailer-3.10.0 pyclipper-1.3.0.post3 pycryptodome-3.15.0 python-Levenshtein-0.12.2 visualdl-2.3.0\n",
            "fatal: could not create work tree dir 'PaddleOCR': Operation not supported\n"
          ]
        }
      ],
      "source": [
        "# install paddlepaddle and paddleocr whl package\n",
        "# !pip install -U pip\n",
        "!pip install paddlepaddle paddleocr\n",
        "!git clone https://github.com/PaddlePaddle/PaddleOCR"
      ]
    },
    {
      "cell_type": "code",
      "execution_count": null,
      "metadata": {
        "id": "avn_mCx5e-aR",
        "colab": {
          "base_uri": "https://localhost:8080/"
        },
        "outputId": "df5b05d7-16e5-4891-dadd-146ca4187666"
      },
      "outputs": [
        {
          "output_type": "stream",
          "name": "stdout",
          "text": [
            "Cloning into 'text_renderer'...\n",
            "remote: Enumerating objects: 627, done.\u001b[K\n",
            "remote: Counting objects: 100% (47/47), done.\u001b[K\n",
            "remote: Compressing objects: 100% (32/32), done.\u001b[K\n",
            "remote: Total 627 (delta 12), reused 41 (delta 11), pack-reused 580\u001b[K\n",
            "Receiving objects: 100% (627/627), 13.75 MiB | 18.03 MiB/s, done.\n",
            "Resolving deltas: 100% (318/318), done.\n"
          ]
        }
      ],
      "source": [
        "# data synthesis tool\n",
        "!git clone https://github.com/tink2123/text_renderer.git"
      ]
    },
    {
      "cell_type": "markdown",
      "metadata": {
        "collapsed": false,
        "id": "jMCsp4ywe-aO"
      },
      "source": [
        "### Install third-party requirements"
      ]
    },
    {
      "cell_type": "code",
      "execution_count": null,
      "metadata": {
        "id": "mE64eTiQe-aO"
      },
      "outputs": [],
      "source": [
        "!cd PaddleOCR && pip install -r requirements.txt"
      ]
    },
    {
      "cell_type": "code",
      "execution_count": null,
      "metadata": {
        "id": "T42tVJY0e-aR"
      },
      "outputs": [],
      "source": [
        "!pip install -r ./text_renderer/requirements.txt"
      ]
    },
    {
      "cell_type": "markdown",
      "source": [
        "### Quick use\n",
        "\n",
        "First we show the use of the paddleocr WHL package. If you want to learn all about how to use the WHL package please look at [this tutorial](https://colab.research.google.com/drive/1_GpuvV0eO10TeTX1aCbVFc3aWK5cVcBC?usp=sharing)."
      ],
      "metadata": {
        "id": "19PCWzwroXNh"
      }
    },
    {
      "cell_type": "code",
      "source": [
        "!paddleocr --image_dir /your/image/path --lang=en"
      ],
      "metadata": {
        "id": "lXx9bhu6oW2W"
      },
      "execution_count": null,
      "outputs": []
    },
    {
      "cell_type": "markdown",
      "source": [
        "## Data preparation\n",
        "\n",
        "Training a recognition model always need tremendous recognition images, like 0.1 to 1 million. In addition to existing datasets, it is very difficult to obtain so much real data in general, so synthetic data often plays an important role in expanding the amount of data. On the other hand, if there is only synthetic data, the generalization ability of the model may not be strong enough. In the actual training process, it is often a better method to sample real data and synthetic data in a certain proportion."
      ],
      "metadata": {
        "id": "2qh3q3VsqMEP"
      }
    },
    {
      "cell_type": "markdown",
      "source": [
        "### Real data annotation\n",
        "\n",
        "We recommend using [PPOCRLabel](https://github.com/PaddlePaddle/PaddleOCR/tree/release/2.5/PPOCRLabel) as the annotation tool for OCR task, because it has a build-in PP-OCR model to automatically detect and re-recognize data, which can impove the efficiency more than 50%.\n",
        "\n",
        "For more informaiton, please read the [README of PPOCRLabel](https://github.com/PaddlePaddle/PaddleOCR/tree/release/2.5/PPOCRLabel)\n",
        "\n",
        "<img src='https://github.com/PaddlePaddle/PaddleOCR/raw/release/2.5/PPOCRLabel/data/gif/steps_en.gif' width=\"600\" heith=\"600\">"
      ],
      "metadata": {
        "id": "rSc7KxZ9qP0e"
      }
    },
    {
      "cell_type": "markdown",
      "source": [
        "### Synthetic data\n",
        "\n",
        "Data synthesis tools：\n",
        "\n",
        "Synthesizing recognition images requires five elements: dictionary, corpus, font, background images, and a text images generator tool (recommend [text_renderer](https://github.com/Sanster/text_renderer), suitable for multiple languages). then control the final effects via configuration such as spacing, horizontal and vertical, bending, etc., so that the synthesized image can be approximated to the real image.\n",
        "\n",
        "Next we describe how to obtain these elements in turn."
      ],
      "metadata": {
        "id": "5LeSNjNsaY_W"
      }
    },
    {
      "cell_type": "markdown",
      "metadata": {
        "collapsed": false,
        "id": "EamS__6Fe-aP"
      },
      "source": [
        "#### Dictionary and corpus\n",
        "\n",
        "The dictionary corresponds to the text information that the model needs to recognize, in another word, all the text that needs to be recognized should appear in the dictionary. The corpus is the words and sentences needed to generate text images, and the synthesis tool will synthesize text images according to the corpus.\n",
        "\n",
        "Both of the dictionary files and the corpus files are .txt format in PaddleOCR.\n",
        "\n",
        "For example a partial Thai dictionary is like:\n",
        "```\n",
        "ก\n",
        "ข\n",
        "ค\n",
        "ฆ\n",
        "ง\n",
        "จ\n",
        "ฉ\n",
        "ช\n",
        "ซ\n",
        "ฌ\n",
        "ญ\n",
        "ฎ\n",
        "ฏ\n",
        "```\n",
        "\n",
        "a partial Thai corpus is like:\n",
        "\n",
        "```\n",
        "โต้ทีดีอาร์ไอ\n",
        "แต่คำตอบที่ว่า\n",
        "ทุกกรณีปัญหา\n",
        "นักรักชาติ\n",
        "“นโยบายสามหก”\n",
        "Islington\n",
        "อะซีม\n",
        "```\n",
        "\n",
        "There are three ways to obtain dictionary and corpus\n",
        "\n",
        "- Download from PaddleOCR github repository\n",
        "\n",
        "\tPaddleOCR has released a series dictionary in [the github repo](https://github.com/PaddlePaddle/PaddleOCR/blob/release/2.5/ppocr/utils/dict), which had been used to train the PP-OCR mutilingual models (you can find the trained model [here](https://github.com/PaddlePaddle/PaddleOCR/blob/release/2.5/doc/doc_en/models_list_en.md#23-multilingual-recognition-modelupdating)). At the same time, many developers have contributed dictionaries and corpus of some languages through PRs or comments under [the Multilingual OCR Development Plan](https://github.com/PaddlePaddle/PaddleOCR/issues/1048) issue.\n",
        "\n",
        "- Custom Dictionary or cropus\n",
        "\n",
        "\tThe above dictionaries are often used in generic scenarios, while in other scenarios the required characters are specific or not all the characters in the generic dictionary are needed, so the content of the dictionary can be customized according to the scenario. For expample, if you only want to recognize digital, your dictionary only contains 0-9.\n",
        "\n",
        "\tIf you want to improve certain effects in a targeted manner, such as spaces, special symbols, punctuation, etc., you can add more of this information when you construct corpus\n",
        "\n",
        "- Get dictionary through corpus\n",
        "\n",
        "\tThe third method is to prepare a dictionary based on the corpus. This method is suitable for preparing the corpus content first, and traversing the corpus content through an algorithm to generate a dictionary containing all the words in the corpus.\n",
        "\n",
        "\n"
      ]
    },
    {
      "cell_type": "markdown",
      "source": [
        "#### Fonts and background\n",
        "\n",
        "When the model recognizes some unseen font forms (like Dot matrix font, digital tube font), bad results may occur, so we need to synthesize data of similar fonts.\n",
        "\n",
        "You can find different types of fonts in the fonts webside.\n",
        "\n",
        "The background of the synthesize data should be similar with the reall data. If you train a model for a specific scene, you can directly snap out the background image from the real data. For example, in the PCB scene, the images are all in green, which requires a similar green image as the background.\n",
        "\n",
        "If the background in the scene is not uniform, you can also use the data in ImageNet as the background image\n",
        "\n",
        "<img src='https://github.com/tink2123/text_renderer/blob/master/data/bg/%E8%83%8C%E6%99%AF.png?raw=true' width=\"200\" heith=\"200\">\n"
      ],
      "metadata": {
        "id": "ElRmHQQAV-p6"
      }
    },
    {
      "cell_type": "markdown",
      "metadata": {
        "collapsed": false,
        "id": "Zm7t1-Lze-aS"
      },
      "source": [
        "#### Start synthesis\n",
        "\n",
        "The way to use `text_renderer` is really simple, only need to spicify `fonts_list`, `chars_file` to the path of your fonts and dictionary\n",
        "\n"
      ]
    },
    {
      "cell_type": "markdown",
      "source": [
        "Place the prepared corpus, dictionary, and background image in the text_renderer/data directory, and modify the default configuration, taking the English data as an example.\n",
        "1. prepare `n` corpus listed in [thai_movies.txt](/content/text_renderer/data/en_corpus/en_movies.txt)\n",
        "2. If you want to enhance the data richness, prepare some background images to be placed under the `data/bg path`, in this case 5 imagenet are provided.\n",
        "3. Modify the default parameters in `text_renderer/parse_args.py`: `--chars_file`, `--fonts_list`, `--corpus_dir`, `--corpus_mode`\n",
        "\n",
        "Start the data synthesis script"
      ],
      "metadata": {
        "id": "q1v7-buBxUSk"
      }
    },
    {
      "cell_type": "code",
      "execution_count": null,
      "metadata": {
        "id": "9pgAVkhbe-aS",
        "outputId": "e324a5c9-1101-45be-ad23-dc10ec724b48",
        "colab": {
          "base_uri": "https://localhost:8080/"
        }
      },
      "outputs": [
        {
          "output_type": "stream",
          "name": "stdout",
          "text": [
            "Total fonts num: 1\n",
            "Background num: 6\n",
            "Loading corpus from: ./data/en_corpus\n",
            "Load corpus: ./data/en_corpus/en_movies.txt\n",
            "Total lines: 25\n",
            "Generate text images in ./output/default\n",
            "10/10 100%\n",
            "Finish generate data: 1.224 s\n"
          ]
        }
      ],
      "source": [
        "!cd text_renderer && python main.py --num_img=10"
      ]
    },
    {
      "cell_type": "markdown",
      "source": [
        "The synthesis data is stored in the `output/default` directory.\n",
        "\n",
        "\n"
      ],
      "metadata": {
        "id": "izkrXCyDEncD"
      }
    },
    {
      "cell_type": "code",
      "source": [
        "import cv2\n",
        "import matplotlib.pyplot as plt\n",
        "\n",
        "raw_img = cv2.imread(\"/content/text_renderer/output/default/00000000.jpg\")\n",
        "plt.imshow(raw_img)"
      ],
      "metadata": {
        "colab": {
          "base_uri": "https://localhost:8080/",
          "height": 111
        },
        "id": "8iPnb_EuzE5q",
        "outputId": "7421ce84-7142-435e-f400-1d14b5b1b87d"
      },
      "execution_count": null,
      "outputs": [
        {
          "output_type": "execute_result",
          "data": {
            "text/plain": [
              "<matplotlib.image.AxesImage at 0x7fb61227fcd0>"
            ]
          },
          "metadata": {},
          "execution_count": 9
        },
        {
          "output_type": "display_data",
          "data": {
            "text/plain": [
              "<Figure size 432x288 with 1 Axes>"
            ],
            "image/png": "[encoded data removed]"
          },
          "metadata": {
            "needs_background": "light"
          }
        }
      ]
    },
    {
      "cell_type": "markdown",
      "source": [
        "Also, the ground truth information that can be used to train PaddleOCR is stored in `output/default/label.txt`\n",
        "\n",
        "```\n",
        "default/00000000.jpg\t(พลังน้ำ)\n",
        "default/00000001.jpg\tโต้ทีดีอาร์ไอ\n",
        "default/00000002.jpg\tแต่คำตอบที่ว่า\n",
        "default/00000003.jpg\tทุกกรณีปัญหา\n",
        "default/00000004.jpg\tนักรักชาติ\n",
        "default/00000005.jpg\t“นโยบายสามหก”\n",
        "default/00000006.jpg\tและคนมีเหตุมีผล\n",
        "...\n",
        "```"
      ],
      "metadata": {
        "id": "VBbrvkA-1AY-"
      }
    },
    {
      "cell_type": "markdown",
      "source": [
        "### Thai language data\n",
        "\n",
        "As the synthesis process is long, we provide an already synthesized Thai language dataset.\n",
        "\n",
        "Click the [link](https://drive.google.com/file/d/1ZJIdL4n9OTiKLj4SDSEQjT_3i6B14998/view?usp=sharing) to save the synthesis Thai language data to your google drive, and then open file from your drive, unzip the `th_img.tar` to the PaddleOCR folder.\n"
      ],
      "metadata": {
        "id": "jdcs5DJVt1ip"
      }
    },
    {
      "cell_type": "code",
      "source": [
        "from google.colab import drive\n",
        "drive.mount('/gdrive')\n",
        "%cd /gdrive"
      ],
      "metadata": {
        "id": "t7tsTY4st79_",
        "colab": {
          "base_uri": "https://localhost:8080/"
        },
        "outputId": "37cc705b-85a6-4586-f332-e91ce7b5bc2c"
      },
      "execution_count": null,
      "outputs": [
        {
          "output_type": "stream",
          "name": "stdout",
          "text": [
            "Drive already mounted at /gdrive; to attempt to forcibly remount, call drive.mount(\"/gdrive\", force_remount=True).\n",
            "/gdrive\n"
          ]
        }
      ]
    },
    {
      "cell_type": "code",
      "source": [
        "!mkdir /content/PaddleOCR/train_data\n",
        "!cp /gdrive/MyDrive/th_img.tar /content/PaddleOCR/train_data/"
      ],
      "metadata": {
        "colab": {
          "base_uri": "https://localhost:8080/"
        },
        "id": "47tLUG6gh1m5",
        "outputId": "5f1d5d62-6724-4a1e-ad46-0645714d5404"
      },
      "execution_count": null,
      "outputs": [
        {
          "output_type": "stream",
          "name": "stdout",
          "text": [
            "mkdir: cannot create directory ‘/content/PaddleOCR/train_data’: File exists\n"
          ]
        }
      ]
    },
    {
      "cell_type": "code",
      "source": [
        "!cd /content/PaddleOCR/train_data/ && tar -xf th_img.tar\n",
        "%cd /content/PaddleOCR"
      ],
      "metadata": {
        "id": "Nc4AZWo4uePh"
      },
      "execution_count": null,
      "outputs": []
    },
    {
      "cell_type": "markdown",
      "source": [
        "The required annotation format of PaddleOCR is use a `\\t` to split the iamge path and image label. If you use other methods to split, it will cause training error\n",
        "\n",
        "```\n",
        "\" Image file name                       Image annotation \"\n",
        "th_img/0/ILSVRC2012_val_00019591_5.jpg  ทุกกรณีปัญหา\n",
        "th_img/0/ILSVRC2012_val_00010000_5.jpg  ทุกกรณีปัญหา\n",
        "th_img/0/ILSVRC2012_val_00012707_5.jpg  ทุกกรณีปัญหา\n",
        "th_img/0/ILSVRC2012_val_00017283_5.jpg  ทุกกรณีปัญหา\n",
        "th_img/0/ILSVRC2012_val_00012583_5.jpg  ทุกกรณีปัญหา\n",
        "th_img/0/ILSVRC2012_val_00015817_6.jpg  นักรักชาติ\n",
        "th_img/0/ILSVRC2012_val_00018484_6.jpg  นักรักชาติ\n",
        "th_img/0/ILSVRC2012_val_00010596_6.jpg  นักรักชาติ\n",
        "th_img/0/ILSVRC2012_val_00013689_6.jpg  นักรักชาติ\n",
        "th_img/0/ILSVRC2012_val_00013117_6.jpg  นักรักชาติ\n",
        "\n",
        "...\n",
        "```"
      ],
      "metadata": {
        "id": "_Jyibt3Gv3Zn"
      }
    },
    {
      "cell_type": "markdown",
      "source": [
        "### Dataset structure"
      ],
      "metadata": {
        "id": "gj5cp2r8UBcL"
      }
    },
    {
      "cell_type": "markdown",
      "source": [
        "When you use your own data for training, please refer to the following to organize the file structure.\n",
        "\n",
        "- Training set\n",
        "\n",
        "    It is recommended to put the training images in the same folder, and use a txt file ( like `rec_gt_train.txt`) to store the image path and label. The format of `rec_gt_train.txt` is as above. The contents of the txt file are as follows:\n",
        "\n",
        "    The final training set should have the following file structure:\n",
        "\n",
        "    ```\n",
        "    |-train_data\n",
        "    |-rec\n",
        "        |- rec_gt_train.txt\n",
        "        |- train\n",
        "            |- word_001.png\n",
        "            |- word_002.jpg\n",
        "            |- word_003.jpg\n",
        "            | ...\n",
        "    ```\n",
        "\n",
        "- Test set\n",
        "\n",
        "    Similar to the training set, the test set also needs to be provided a folder containing all images (test) and a rec_gt_test.txt. The structure of the test set is as follows:\n",
        "\n",
        "    ```\n",
        "    |-train_data\n",
        "    |-rec\n",
        "        |-ic15_data\n",
        "            |- rec_gt_test.txt\n",
        "            |- test\n",
        "                |- word_001.jpg\n",
        "                |- word_002.jpg\n",
        "                |- word_003.jpg\n",
        "                | ...\n",
        "    ```\n"
      ],
      "metadata": {
        "id": "wq3XKkMFTpz3"
      }
    },
    {
      "cell_type": "markdown",
      "metadata": {
        "collapsed": false,
        "id": "_4DjhJKee-aV"
      },
      "source": [
        "## Model training and evaluation\n",
        "\n",
        "PaddleOCR passes in the training parameters in the form of a configuration file (including model structure, training configuration etc.), The following is a typical configuration file form.\n",
        "\n",
        "We add some comments above some important parameters below, you can find more configs in `/config/`\n",
        "\n",
        "If you need to add a new configuration file, please refer to the following example to modify **`character_dict_path`** and **`dataset`**"
      ]
    },
    {
      "cell_type": "markdown",
      "metadata": {
        "collapsed": false,
        "id": "sjfJXPzBe-aV"
      },
      "source": [
        "```\n",
        "Global:\n",
        "  use_gpu: true\n",
        "  epoch_num: 20\n",
        "  ...\n",
        "  save_model_dir: ./output/thai\n",
        "  save_epoch_step: 3\n",
        "  eval_batch_step: [0, 2000]\n",
        "  ...\n",
        "# Add a custom dictionary, such as modify the dictionary, please point the path to the new dictionary\n",
        "  character_dict_path: train_data/th_img/th_dict.txt\n",
        "  ...\n",
        "# Whether to recognize spaces\n",
        "  use_space_char: true\n",
        "  ...\n",
        "\n",
        "Optimizer:\n",
        "  ...\n",
        "  # Add learning rate decay strategy\n",
        "  lr:\n",
        "    name: Cosine\n",
        "    learning_rate: 0.001\n",
        "\n",
        "Architecture:\n",
        "  ...\n",
        "Loss:\n",
        "  ...\n",
        "PostProcess:  \n",
        "  ...\n",
        "Metric:\n",
        "  ...\n",
        "\n",
        "Train:\n",
        "  dataset:\n",
        "    dataset:\n",
        "    # Type of dataset，we support LMDBDataSet and SimpleDataSet\n",
        "    name: SimpleDataSet\n",
        "    # Path of dataset\n",
        "    data_dir: ./train_data/\n",
        "    # Path of train list\n",
        "    label_file_list: [\"./train_data/th_img/train_list.txt\"]\n",
        "    transforms:\n",
        "      ...\n",
        "      - RecResizeImg:\n",
        "          # Modify image_shape to fit long text\n",
        "          image_shape: [3, 48, 320]\n",
        "      ...\n",
        "  loader:\n",
        "    ...\n",
        "    # Train batch_size for Single card\n",
        "    batch_size_per_card: 256\n",
        "    ...\n",
        "\n",
        "Eval:\n",
        "  dataset:\n",
        "    # Type of dataset，we support LMDBDataSet and SimpleDataSet\n",
        "    name: SimpleDataSet\n",
        "    # Path of dataset\n",
        "    data_dir: ./train_data\n",
        "    # Path of eval list\n",
        "    label_file_list: [\"./train_data/th_img/train_list.txt\"]\n",
        "    transforms:\n",
        "      ...\n",
        "      - RecResizeImg:\n",
        "          # Modify image_shape to fit long text\n",
        "          image_shape: [3, 48, 320]\n",
        "      ...\n",
        "  loader:\n",
        "    # Eval batch_size for Single card\n",
        "    batch_size_per_card: 256\n",
        "    ...\n",
        "\n",
        "```"
      ]
    },
    {
      "cell_type": "markdown",
      "metadata": {
        "collapsed": false,
        "id": "Nlgem8xae-aW"
      },
      "source": [
        "### Training\n",
        "\n",
        "Because we specify many parameters through the configuration file, the command to start a model training task is simple, just specify the path of the config file through `-c`\n",
        "\n",
        "```\n",
        "!python3 tools/train.py -c configs/rec/PP-OCRv3/multi_language/latin_PP-OCRv3_rec.yml\n",
        "```\n",
        "\n",
        "PaddleOCR provides single-GPU and multi-GPU training methods. When the amount of data is large, we recommend using multi-GPU mode as the following command:\n",
        "\n",
        "```\n",
        "# specify the number of GPUs through --gpus\n",
        "python3 -m paddle.distributed.launch --gpus '0,1,2,3'  tools/train.py -c configs/rec/PP-OCRv3/en_PP-OCRv3_rec.yml -o Global.pretrained_model=en_PP-OCRv3_rec_train/best_accuracy\n",
        "```\n",
        "\n",
        "Here, since the multi-GPU mode can not be used for everyone on colab, we still use a single CPU to start the basic training.\n",
        "\n",
        "> As the size of the dataset we provided is not enough to train a good Thai language model, we recommend you synthesize or add more data.\n"
      ]
    },
    {
      "cell_type": "code",
      "source": [
        "!python3 tools/train.py -c train_data/th_img/thai_PP-OCRv3_rec.yml -o Global.use_gpu=False"
      ],
      "metadata": {
        "colab": {
          "base_uri": "https://localhost:8080/"
        },
        "id": "Vi74CT8o0kJa",
        "outputId": "fbd25cd0-3497-47de-d7ff-e32c3ad2ee22"
      },
      "execution_count": null,
      "outputs": [
        {
          "output_type": "stream",
          "name": "stdout",
          "text": [
            "[2022/08/18 12:01:25] ppocr INFO: Architecture : \n",
            "[2022/08/18 12:01:25] ppocr INFO:     Backbone : \n",
            "[2022/08/18 12:01:25] ppocr INFO:         last_conv_stride : [1, 2]\n",
            "[2022/08/18 12:01:25] ppocr INFO:         last_pool_type : avg\n",
            "[2022/08/18 12:01:25] ppocr INFO:         name : MobileNetV1Enhance\n",
            "[2022/08/18 12:01:25] ppocr INFO:         scale : 0.5\n",
            "[2022/08/18 12:01:25] ppocr INFO:     Head : \n",
            "[2022/08/18 12:01:25] ppocr INFO:         head_list : \n",
            "[2022/08/18 12:01:25] ppocr INFO:             CTCHead : \n",
            "[2022/08/18 12:01:25] ppocr INFO:                 Head : \n",
            "[2022/08/18 12:01:25] ppocr INFO:                     fc_decay : 1e-05\n",
            "[2022/08/18 12:01:25] ppocr INFO:                 Neck : \n",
            "[2022/08/18 12:01:25] ppocr INFO:                     depth : 2\n",
            "[2022/08/18 12:01:25] ppocr INFO:                     dims : 64\n",
            "[2022/08/18 12:01:25] ppocr INFO:                     hidden_dims : 120\n",
            "[2022/08/18 12:01:25] ppocr INFO:                     name : svtr\n",
            "[2022/08/18 12:01:25] ppocr INFO:                     use_guide : True\n",
            "[2022/08/18 12:01:25] ppocr INFO:             SARHead : \n",
            "[2022/08/18 12:01:25] ppocr INFO:                 enc_dim : 512\n",
            "[2022/08/18 12:01:25] ppocr INFO:                 max_text_length : 25\n",
            "[2022/08/18 12:01:25] ppocr INFO:         name : MultiHead\n",
            "[2022/08/18 12:01:25] ppocr INFO:     Transform : None\n",
            "[2022/08/18 12:01:25] ppocr INFO:     algorithm : SVTR\n",
            "[2022/08/18 12:01:25] ppocr INFO:     model_type : rec\n",
            "[2022/08/18 12:01:25] ppocr INFO: Eval : \n",
            "[2022/08/18 12:01:25] ppocr INFO:     dataset : \n",
            "[2022/08/18 12:01:25] ppocr INFO:         data_dir : ./train_data\n",
            "[2022/08/18 12:01:25] ppocr INFO:         label_file_list : ['./train_data/th_img/val_list.txt']\n",
            "[2022/08/18 12:01:25] ppocr INFO:         name : SimpleDataSet\n",
            "[2022/08/18 12:01:25] ppocr INFO:         transforms : \n",
            "[2022/08/18 12:01:25] ppocr INFO:             DecodeImage : \n",
            "[2022/08/18 12:01:25] ppocr INFO:                 channel_first : False\n",
            "[2022/08/18 12:01:25] ppocr INFO:                 img_mode : BGR\n",
            "[2022/08/18 12:01:25] ppocr INFO:             MultiLabelEncode : None\n",
            "[2022/08/18 12:01:25] ppocr INFO:             RecResizeImg : \n",
            "[2022/08/18 12:01:25] ppocr INFO:                 image_shape : [3, 48, 320]\n",
            "[2022/08/18 12:01:25] ppocr INFO:             KeepKeys : \n",
            "[2022/08/18 12:01:25] ppocr INFO:                 keep_keys : ['image', 'label_ctc', 'label_sar', 'length', 'valid_ratio']\n",
            "[2022/08/18 12:01:25] ppocr INFO:     loader : \n",
            "[2022/08/18 12:01:25] ppocr INFO:         batch_size_per_card : 128\n",
            "[2022/08/18 12:01:25] ppocr INFO:         drop_last : False\n",
            "[2022/08/18 12:01:25] ppocr INFO:         num_workers : 4\n",
            "[2022/08/18 12:01:25] ppocr INFO:         shuffle : False\n",
            "[2022/08/18 12:01:25] ppocr INFO: Global : \n",
            "[2022/08/18 12:01:25] ppocr INFO:     cal_metric_during_train : True\n",
            "[2022/08/18 12:01:25] ppocr INFO:     character_dict_path : train_data/th_img/th_dict.txt\n",
            "[2022/08/18 12:01:25] ppocr INFO:     checkpoints : None\n",
            "[2022/08/18 12:01:25] ppocr INFO:     debug : False\n",
            "[2022/08/18 12:01:25] ppocr INFO:     distributed : False\n",
            "[2022/08/18 12:01:25] ppocr INFO:     epoch_num : 500\n",
            "[2022/08/18 12:01:25] ppocr INFO:     eval_batch_step : [0, 2000]\n",
            "[2022/08/18 12:01:25] ppocr INFO:     infer_img : doc/imgs_words/ch/word_1.jpg\n",
            "[2022/08/18 12:01:25] ppocr INFO:     infer_mode : False\n",
            "[2022/08/18 12:01:25] ppocr INFO:     log_smooth_window : 20\n",
            "[2022/08/18 12:01:25] ppocr INFO:     max_text_length : 25\n",
            "[2022/08/18 12:01:25] ppocr INFO:     pretrained_model : None\n",
            "[2022/08/18 12:01:25] ppocr INFO:     print_batch_step : 10\n",
            "[2022/08/18 12:01:25] ppocr INFO:     save_epoch_step : 3\n",
            "[2022/08/18 12:01:25] ppocr INFO:     save_inference_dir : None\n",
            "[2022/08/18 12:01:25] ppocr INFO:     save_model_dir : ./output/thai\n",
            "[2022/08/18 12:01:25] ppocr INFO:     save_res_path : ./output/rec/predicts_ppocrv3_thai.txt\n",
            "[2022/08/18 12:01:25] ppocr INFO:     use_gpu : False\n",
            "[2022/08/18 12:01:25] ppocr INFO:     use_space_char : True\n",
            "[2022/08/18 12:01:25] ppocr INFO:     use_visualdl : False\n",
            "[2022/08/18 12:01:25] ppocr INFO: Loss : \n",
            "[2022/08/18 12:01:25] ppocr INFO:     loss_config_list : \n",
            "[2022/08/18 12:01:25] ppocr INFO:         CTCLoss : None\n",
            "[2022/08/18 12:01:25] ppocr INFO:         SARLoss : None\n",
            "[2022/08/18 12:01:25] ppocr INFO:     name : MultiLoss\n",
            "[2022/08/18 12:01:25] ppocr INFO: Metric : \n",
            "[2022/08/18 12:01:25] ppocr INFO:     ignore_space : False\n",
            "[2022/08/18 12:01:25] ppocr INFO:     main_indicator : acc\n",
            "[2022/08/18 12:01:25] ppocr INFO:     name : RecMetric\n",
            "[2022/08/18 12:01:25] ppocr INFO: Optimizer : \n",
            "[2022/08/18 12:01:25] ppocr INFO:     beta1 : 0.9\n",
            "[2022/08/18 12:01:25] ppocr INFO:     beta2 : 0.999\n",
            "[2022/08/18 12:01:25] ppocr INFO:     lr : \n",
            "[2022/08/18 12:01:25] ppocr INFO:         learning_rate : 0.001\n",
            "[2022/08/18 12:01:25] ppocr INFO:         name : Cosine\n",
            "[2022/08/18 12:01:25] ppocr INFO:         warmup_epoch : 5\n",
            "[2022/08/18 12:01:25] ppocr INFO:     name : Adam\n",
            "[2022/08/18 12:01:25] ppocr INFO:     regularizer : \n",
            "[2022/08/18 12:01:25] ppocr INFO:         factor : 3e-05\n",
            "[2022/08/18 12:01:25] ppocr INFO:         name : L2\n",
            "[2022/08/18 12:01:25] ppocr INFO: PostProcess : \n",
            "[2022/08/18 12:01:25] ppocr INFO:     name : CTCLabelDecode\n",
            "[2022/08/18 12:01:25] ppocr INFO: Train : \n",
            "[2022/08/18 12:01:25] ppocr INFO:     dataset : \n",
            "[2022/08/18 12:01:25] ppocr INFO:         data_dir : ./train_data/\n",
            "[2022/08/18 12:01:25] ppocr INFO:         ext_op_transform_idx : 1\n",
            "[2022/08/18 12:01:25] ppocr INFO:         label_file_list : ['./train_data/th_img/train_list.txt']\n",
            "[2022/08/18 12:01:25] ppocr INFO:         name : SimpleDataSet\n",
            "[2022/08/18 12:01:25] ppocr INFO:         transforms : \n",
            "[2022/08/18 12:01:25] ppocr INFO:             DecodeImage : \n",
            "[2022/08/18 12:01:25] ppocr INFO:                 channel_first : False\n",
            "[2022/08/18 12:01:25] ppocr INFO:                 img_mode : BGR\n",
            "[2022/08/18 12:01:25] ppocr INFO:             RecConAug : \n",
            "[2022/08/18 12:01:25] ppocr INFO:                 ext_data_num : 2\n",
            "[2022/08/18 12:01:25] ppocr INFO:                 image_shape : [48, 320, 3]\n",
            "[2022/08/18 12:01:25] ppocr INFO:                 prob : 0.5\n",
            "[2022/08/18 12:01:25] ppocr INFO:             RecAug : None\n",
            "[2022/08/18 12:01:25] ppocr INFO:             MultiLabelEncode : None\n",
            "[2022/08/18 12:01:25] ppocr INFO:             RecResizeImg : \n",
            "[2022/08/18 12:01:25] ppocr INFO:                 image_shape : [3, 48, 320]\n",
            "[2022/08/18 12:01:25] ppocr INFO:             KeepKeys : \n",
            "[2022/08/18 12:01:25] ppocr INFO:                 keep_keys : ['image', 'label_ctc', 'label_sar', 'length', 'valid_ratio']\n",
            "[2022/08/18 12:01:25] ppocr INFO:     loader : \n",
            "[2022/08/18 12:01:25] ppocr INFO:         batch_size_per_card : 128\n",
            "[2022/08/18 12:01:25] ppocr INFO:         drop_last : True\n",
            "[2022/08/18 12:01:25] ppocr INFO:         num_workers : 4\n",
            "[2022/08/18 12:01:25] ppocr INFO:         shuffle : True\n",
            "[2022/08/18 12:01:25] ppocr INFO: profiler_options : None\n",
            "[2022/08/18 12:01:25] ppocr INFO: train with paddle 2.3.2 and device Place(cpu)\n",
            "[2022/08/18 12:01:25] ppocr INFO: Initialize indexs of datasets:['./train_data/th_img/train_list.txt']\n",
            "[2022/08/18 12:01:25] ppocr INFO: Initialize indexs of datasets:['./train_data/th_img/val_list.txt']\n",
            "[2022/08/18 12:01:26] ppocr INFO: train from scratch\n",
            "[2022/08/18 12:01:26] ppocr INFO: train dataloader has 1546 iters\n",
            "[2022/08/18 12:01:26] ppocr INFO: valid dataloader has 16 iters\n",
            "[2022/08/18 12:01:26] ppocr INFO: During the training process, after the 0th iteration, an evaluation is run every 2000 iterations\n"
          ]
        }
      ]
    },
    {
      "cell_type": "markdown",
      "source": [
        "If you are familiar with continue training, training with new backbone, mixed precision training, training with knowledge distillation, you can more usages in [this document](https://github.com/PaddlePaddle/PaddleOCR/blob/release/2.5/doc/doc_en/recognition_en.md)"
      ],
      "metadata": {
        "id": "tV40CQ8U1zMV"
      }
    },
    {
      "cell_type": "markdown",
      "metadata": {
        "collapsed": false,
        "id": "WShr_poqe-aX"
      },
      "source": [
        "### Evaluation\n",
        "\n",
        "The model parameters during training are saved in the `Global.save_model_dir` directory by default. When evaluating indicators, you need to set `Global.checkpoints` to point to the saved parameter file. The evaluation dataset can be set by modifying the `Eval.dataset.label_file_list` field in the `configs/rec/PP-OCRv3/{your/config/file}.yml` file."
      ]
    },
    {
      "cell_type": "code",
      "execution_count": null,
      "metadata": {
        "id": "4o2gFz7Ne-aX"
      },
      "outputs": [],
      "source": [
        "!python3 tools/eval.py -c train_data/th_img/thai_PP-OCRv3_rec.yml -o Global.checkpoints=./output/thai/best_accuracy"
      ]
    },
    {
      "cell_type": "markdown",
      "source": [
        "## Inference\n",
        "\n",
        "\n",
        "\n"
      ],
      "metadata": {
        "id": "HrXXeM-n-kag"
      }
    },
    {
      "cell_type": "code",
      "source": [
        "!python3 tools/infer_rec.py -c train_data/th_img/thai_PP-OCRv3_rec.yml -o Global.checkpoints=./output/thai/best_accuracy  Global.infer_img=./train_data/th_img/0/ILSVRC2012_val_00019591_5.jpg"
      ],
      "metadata": {
        "id": "2ko9lTlM-wLx"
      },
      "execution_count": null,
      "outputs": []
    }
  ],
  "metadata": {
    "kernelspec": {
      "display_name": "Python 3",
      "language": "python",
      "name": "py35-paddle1.2.0"
    },
    "language_info": {
      "codemirror_mode": {
        "name": "ipython",
        "version": 3
      },
      "file_extension": ".py",
      "mimetype": "text/x-python",
      "name": "python",
      "nbconvert_exporter": "python",
      "pygments_lexer": "ipython3",
      "version": "3.7.4"
    },
    "colab": {
      "provenance": []
    }
  },
  "nbformat": 4,
  "nbformat_minor": 0
}